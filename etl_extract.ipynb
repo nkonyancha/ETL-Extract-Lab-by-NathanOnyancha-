{
 "cells": [
  {
   "cell_type": "code",
   "execution_count": 53,
   "id": "77b8f4b9",
   "metadata": {},
   "outputs": [],
   "source": [
    "import pandas  as pd"
   ]
  },
  {
   "cell_type": "code",
   "execution_count": 54,
   "id": "d7f25a88",
   "metadata": {},
   "outputs": [
    {
     "name": "stdout",
     "output_type": "stream",
     "text": [
      "extracted 18862 rows\n"
     ]
    },
    {
     "data": {
      "application/vnd.microsoft.datawrangler.viewer.v0+json": {
       "columns": [
        {
         "name": "index",
         "rawType": "int64",
         "type": "integer"
        },
        {
         "name": "Unique ID",
         "rawType": "int64",
         "type": "integer"
        },
        {
         "name": "Indicator ID",
         "rawType": "int64",
         "type": "integer"
        },
        {
         "name": "Name",
         "rawType": "object",
         "type": "string"
        },
        {
         "name": "Measure",
         "rawType": "object",
         "type": "string"
        },
        {
         "name": "Measure Info",
         "rawType": "object",
         "type": "string"
        },
        {
         "name": "Geo Type Name",
         "rawType": "object",
         "type": "string"
        },
        {
         "name": "Geo Join ID",
         "rawType": "int64",
         "type": "integer"
        },
        {
         "name": "Geo Place Name",
         "rawType": "object",
         "type": "string"
        },
        {
         "name": "Time Period",
         "rawType": "object",
         "type": "string"
        },
        {
         "name": "Start_Date",
         "rawType": "datetime64[ns]",
         "type": "datetime"
        },
        {
         "name": "Data Value",
         "rawType": "float64",
         "type": "float"
        },
        {
         "name": "Message",
         "rawType": "float64",
         "type": "float"
        }
       ],
       "ref": "4741c085-1725-4498-bbc6-7a0ffb762c35",
       "rows": [
        [
         "0",
         "336867",
         "375",
         "Nitrogen dioxide (NO2)",
         "Mean",
         "ppb",
         "CD",
         "407",
         "Flushing and Whitestone (CD7)",
         "Winter 2014-15",
         "2014-12-01 00:00:00",
         "23.97",
         null
        ],
        [
         "1",
         "336741",
         "375",
         "Nitrogen dioxide (NO2)",
         "Mean",
         "ppb",
         "CD",
         "107",
         "Upper West Side (CD7)",
         "Winter 2014-15",
         "2014-12-01 00:00:00",
         "27.42",
         null
        ],
        [
         "2",
         "550157",
         "375",
         "Nitrogen dioxide (NO2)",
         "Mean",
         "ppb",
         "CD",
         "414",
         "Rockaway and Broad Channel (CD14)",
         "Annual Average 2017",
         "2017-01-01 00:00:00",
         "12.55",
         null
        ],
        [
         "3",
         "412802",
         "375",
         "Nitrogen dioxide (NO2)",
         "Mean",
         "ppb",
         "CD",
         "407",
         "Flushing and Whitestone (CD7)",
         "Winter 2015-16",
         "2015-12-01 00:00:00",
         "22.63",
         null
        ],
        [
         "4",
         "412803",
         "375",
         "Nitrogen dioxide (NO2)",
         "Mean",
         "ppb",
         "CD",
         "407",
         "Flushing and Whitestone (CD7)",
         "Summer 2016",
         "2016-06-01 00:00:00",
         "14.0",
         null
        ]
       ],
       "shape": {
        "columns": 12,
        "rows": 5
       }
      },
      "text/html": [
       "<div>\n",
       "<style scoped>\n",
       "    .dataframe tbody tr th:only-of-type {\n",
       "        vertical-align: middle;\n",
       "    }\n",
       "\n",
       "    .dataframe tbody tr th {\n",
       "        vertical-align: top;\n",
       "    }\n",
       "\n",
       "    .dataframe thead th {\n",
       "        text-align: right;\n",
       "    }\n",
       "</style>\n",
       "<table border=\"1\" class=\"dataframe\">\n",
       "  <thead>\n",
       "    <tr style=\"text-align: right;\">\n",
       "      <th></th>\n",
       "      <th>Unique ID</th>\n",
       "      <th>Indicator ID</th>\n",
       "      <th>Name</th>\n",
       "      <th>Measure</th>\n",
       "      <th>Measure Info</th>\n",
       "      <th>Geo Type Name</th>\n",
       "      <th>Geo Join ID</th>\n",
       "      <th>Geo Place Name</th>\n",
       "      <th>Time Period</th>\n",
       "      <th>Start_Date</th>\n",
       "      <th>Data Value</th>\n",
       "      <th>Message</th>\n",
       "    </tr>\n",
       "  </thead>\n",
       "  <tbody>\n",
       "    <tr>\n",
       "      <th>0</th>\n",
       "      <td>336867</td>\n",
       "      <td>375</td>\n",
       "      <td>Nitrogen dioxide (NO2)</td>\n",
       "      <td>Mean</td>\n",
       "      <td>ppb</td>\n",
       "      <td>CD</td>\n",
       "      <td>407</td>\n",
       "      <td>Flushing and Whitestone (CD7)</td>\n",
       "      <td>Winter 2014-15</td>\n",
       "      <td>2014-12-01</td>\n",
       "      <td>23.97</td>\n",
       "      <td>NaN</td>\n",
       "    </tr>\n",
       "    <tr>\n",
       "      <th>1</th>\n",
       "      <td>336741</td>\n",
       "      <td>375</td>\n",
       "      <td>Nitrogen dioxide (NO2)</td>\n",
       "      <td>Mean</td>\n",
       "      <td>ppb</td>\n",
       "      <td>CD</td>\n",
       "      <td>107</td>\n",
       "      <td>Upper West Side (CD7)</td>\n",
       "      <td>Winter 2014-15</td>\n",
       "      <td>2014-12-01</td>\n",
       "      <td>27.42</td>\n",
       "      <td>NaN</td>\n",
       "    </tr>\n",
       "    <tr>\n",
       "      <th>2</th>\n",
       "      <td>550157</td>\n",
       "      <td>375</td>\n",
       "      <td>Nitrogen dioxide (NO2)</td>\n",
       "      <td>Mean</td>\n",
       "      <td>ppb</td>\n",
       "      <td>CD</td>\n",
       "      <td>414</td>\n",
       "      <td>Rockaway and Broad Channel (CD14)</td>\n",
       "      <td>Annual Average 2017</td>\n",
       "      <td>2017-01-01</td>\n",
       "      <td>12.55</td>\n",
       "      <td>NaN</td>\n",
       "    </tr>\n",
       "    <tr>\n",
       "      <th>3</th>\n",
       "      <td>412802</td>\n",
       "      <td>375</td>\n",
       "      <td>Nitrogen dioxide (NO2)</td>\n",
       "      <td>Mean</td>\n",
       "      <td>ppb</td>\n",
       "      <td>CD</td>\n",
       "      <td>407</td>\n",
       "      <td>Flushing and Whitestone (CD7)</td>\n",
       "      <td>Winter 2015-16</td>\n",
       "      <td>2015-12-01</td>\n",
       "      <td>22.63</td>\n",
       "      <td>NaN</td>\n",
       "    </tr>\n",
       "    <tr>\n",
       "      <th>4</th>\n",
       "      <td>412803</td>\n",
       "      <td>375</td>\n",
       "      <td>Nitrogen dioxide (NO2)</td>\n",
       "      <td>Mean</td>\n",
       "      <td>ppb</td>\n",
       "      <td>CD</td>\n",
       "      <td>407</td>\n",
       "      <td>Flushing and Whitestone (CD7)</td>\n",
       "      <td>Summer 2016</td>\n",
       "      <td>2016-06-01</td>\n",
       "      <td>14.00</td>\n",
       "      <td>NaN</td>\n",
       "    </tr>\n",
       "  </tbody>\n",
       "</table>\n",
       "</div>"
      ],
      "text/plain": [
       "   Unique ID  Indicator ID                    Name Measure Measure Info  \\\n",
       "0     336867           375  Nitrogen dioxide (NO2)    Mean          ppb   \n",
       "1     336741           375  Nitrogen dioxide (NO2)    Mean          ppb   \n",
       "2     550157           375  Nitrogen dioxide (NO2)    Mean          ppb   \n",
       "3     412802           375  Nitrogen dioxide (NO2)    Mean          ppb   \n",
       "4     412803           375  Nitrogen dioxide (NO2)    Mean          ppb   \n",
       "\n",
       "  Geo Type Name  Geo Join ID                     Geo Place Name  \\\n",
       "0            CD          407      Flushing and Whitestone (CD7)   \n",
       "1            CD          107              Upper West Side (CD7)   \n",
       "2            CD          414  Rockaway and Broad Channel (CD14)   \n",
       "3            CD          407      Flushing and Whitestone (CD7)   \n",
       "4            CD          407      Flushing and Whitestone (CD7)   \n",
       "\n",
       "           Time Period Start_Date  Data Value  Message  \n",
       "0       Winter 2014-15 2014-12-01       23.97      NaN  \n",
       "1       Winter 2014-15 2014-12-01       27.42      NaN  \n",
       "2  Annual Average 2017 2017-01-01       12.55      NaN  \n",
       "3       Winter 2015-16 2015-12-01       22.63      NaN  \n",
       "4          Summer 2016 2016-06-01       14.00      NaN  "
      ]
     },
     "execution_count": 54,
     "metadata": {},
     "output_type": "execute_result"
    }
   ],
   "source": [
    "df = pd.read_csv(\"Air_Quality.csv\", parse_dates=[\"Start_Date\"])\n",
    "print(f\"extracted {len(df)} rows\")\n",
    "df.head()"
   ]
  },
  {
   "cell_type": "code",
   "execution_count": 55,
   "id": "3e8d6969",
   "metadata": {},
   "outputs": [
    {
     "name": "stdout",
     "output_type": "stream",
     "text": [
      "2015-03-01 00:12:40.385961216\n",
      "2005-01-01 00:00:00\n",
      "2023-06-01 00:00:00\n"
     ]
    }
   ],
   "source": [
    "print(df[\"Start_Date\"].mean())\n",
    "print(df[\"Start_Date\"].min())\n",
    "print(df[\"Start_Date\"].max())\n"
   ]
  },
  {
   "cell_type": "code",
   "execution_count": 56,
   "id": "bb677d02",
   "metadata": {},
   "outputs": [],
   "source": [
    "# Simulate a last extraction date\n",
    "with open(\"last_extraction.txt\", \"w\") as f:\n",
    "    f.write('2015-03-01 00:12:40.385961216') "
   ]
  },
  {
   "cell_type": "code",
   "execution_count": 57,
   "id": "c0823a08",
   "metadata": {},
   "outputs": [
    {
     "name": "stdout",
     "output_type": "stream",
     "text": [
      "Last extraction date: 2015-03-01 00:12:40.385961216\n",
      "Filtered 9120 rows after last extraction date\n"
     ]
    },
    {
     "data": {
      "application/vnd.microsoft.datawrangler.viewer.v0+json": {
       "columns": [
        {
         "name": "index",
         "rawType": "int64",
         "type": "integer"
        },
        {
         "name": "Unique ID",
         "rawType": "int64",
         "type": "integer"
        },
        {
         "name": "Indicator ID",
         "rawType": "int64",
         "type": "integer"
        },
        {
         "name": "Name",
         "rawType": "object",
         "type": "string"
        },
        {
         "name": "Measure",
         "rawType": "object",
         "type": "string"
        },
        {
         "name": "Measure Info",
         "rawType": "object",
         "type": "string"
        },
        {
         "name": "Geo Type Name",
         "rawType": "object",
         "type": "string"
        },
        {
         "name": "Geo Join ID",
         "rawType": "int64",
         "type": "integer"
        },
        {
         "name": "Geo Place Name",
         "rawType": "object",
         "type": "string"
        },
        {
         "name": "Time Period",
         "rawType": "object",
         "type": "string"
        },
        {
         "name": "Start_Date",
         "rawType": "datetime64[ns]",
         "type": "datetime"
        },
        {
         "name": "Data Value",
         "rawType": "float64",
         "type": "float"
        },
        {
         "name": "Message",
         "rawType": "float64",
         "type": "float"
        }
       ],
       "ref": "5b033dbc-5b62-41be-85c8-8a7b2b0902d1",
       "rows": [
        [
         "2",
         "550157",
         "375",
         "Nitrogen dioxide (NO2)",
         "Mean",
         "ppb",
         "CD",
         "414",
         "Rockaway and Broad Channel (CD14)",
         "Annual Average 2017",
         "2017-01-01 00:00:00",
         "12.55",
         null
        ],
        [
         "3",
         "412802",
         "375",
         "Nitrogen dioxide (NO2)",
         "Mean",
         "ppb",
         "CD",
         "407",
         "Flushing and Whitestone (CD7)",
         "Winter 2015-16",
         "2015-12-01 00:00:00",
         "22.63",
         null
        ],
        [
         "4",
         "412803",
         "375",
         "Nitrogen dioxide (NO2)",
         "Mean",
         "ppb",
         "CD",
         "407",
         "Flushing and Whitestone (CD7)",
         "Summer 2016",
         "2016-06-01 00:00:00",
         "14.0",
         null
        ],
        [
         "5",
         "412676",
         "375",
         "Nitrogen dioxide (NO2)",
         "Mean",
         "ppb",
         "CD",
         "107",
         "Upper West Side (CD7)",
         "Winter 2015-16",
         "2015-12-01 00:00:00",
         "26.43",
         null
        ],
        [
         "6",
         "412677",
         "375",
         "Nitrogen dioxide (NO2)",
         "Mean",
         "ppb",
         "CD",
         "107",
         "Upper West Side (CD7)",
         "Summer 2016",
         "2016-06-01 00:00:00",
         "19.1",
         null
        ]
       ],
       "shape": {
        "columns": 12,
        "rows": 5
       }
      },
      "text/html": [
       "<div>\n",
       "<style scoped>\n",
       "    .dataframe tbody tr th:only-of-type {\n",
       "        vertical-align: middle;\n",
       "    }\n",
       "\n",
       "    .dataframe tbody tr th {\n",
       "        vertical-align: top;\n",
       "    }\n",
       "\n",
       "    .dataframe thead th {\n",
       "        text-align: right;\n",
       "    }\n",
       "</style>\n",
       "<table border=\"1\" class=\"dataframe\">\n",
       "  <thead>\n",
       "    <tr style=\"text-align: right;\">\n",
       "      <th></th>\n",
       "      <th>Unique ID</th>\n",
       "      <th>Indicator ID</th>\n",
       "      <th>Name</th>\n",
       "      <th>Measure</th>\n",
       "      <th>Measure Info</th>\n",
       "      <th>Geo Type Name</th>\n",
       "      <th>Geo Join ID</th>\n",
       "      <th>Geo Place Name</th>\n",
       "      <th>Time Period</th>\n",
       "      <th>Start_Date</th>\n",
       "      <th>Data Value</th>\n",
       "      <th>Message</th>\n",
       "    </tr>\n",
       "  </thead>\n",
       "  <tbody>\n",
       "    <tr>\n",
       "      <th>2</th>\n",
       "      <td>550157</td>\n",
       "      <td>375</td>\n",
       "      <td>Nitrogen dioxide (NO2)</td>\n",
       "      <td>Mean</td>\n",
       "      <td>ppb</td>\n",
       "      <td>CD</td>\n",
       "      <td>414</td>\n",
       "      <td>Rockaway and Broad Channel (CD14)</td>\n",
       "      <td>Annual Average 2017</td>\n",
       "      <td>2017-01-01</td>\n",
       "      <td>12.55</td>\n",
       "      <td>NaN</td>\n",
       "    </tr>\n",
       "    <tr>\n",
       "      <th>3</th>\n",
       "      <td>412802</td>\n",
       "      <td>375</td>\n",
       "      <td>Nitrogen dioxide (NO2)</td>\n",
       "      <td>Mean</td>\n",
       "      <td>ppb</td>\n",
       "      <td>CD</td>\n",
       "      <td>407</td>\n",
       "      <td>Flushing and Whitestone (CD7)</td>\n",
       "      <td>Winter 2015-16</td>\n",
       "      <td>2015-12-01</td>\n",
       "      <td>22.63</td>\n",
       "      <td>NaN</td>\n",
       "    </tr>\n",
       "    <tr>\n",
       "      <th>4</th>\n",
       "      <td>412803</td>\n",
       "      <td>375</td>\n",
       "      <td>Nitrogen dioxide (NO2)</td>\n",
       "      <td>Mean</td>\n",
       "      <td>ppb</td>\n",
       "      <td>CD</td>\n",
       "      <td>407</td>\n",
       "      <td>Flushing and Whitestone (CD7)</td>\n",
       "      <td>Summer 2016</td>\n",
       "      <td>2016-06-01</td>\n",
       "      <td>14.00</td>\n",
       "      <td>NaN</td>\n",
       "    </tr>\n",
       "    <tr>\n",
       "      <th>5</th>\n",
       "      <td>412676</td>\n",
       "      <td>375</td>\n",
       "      <td>Nitrogen dioxide (NO2)</td>\n",
       "      <td>Mean</td>\n",
       "      <td>ppb</td>\n",
       "      <td>CD</td>\n",
       "      <td>107</td>\n",
       "      <td>Upper West Side (CD7)</td>\n",
       "      <td>Winter 2015-16</td>\n",
       "      <td>2015-12-01</td>\n",
       "      <td>26.43</td>\n",
       "      <td>NaN</td>\n",
       "    </tr>\n",
       "    <tr>\n",
       "      <th>6</th>\n",
       "      <td>412677</td>\n",
       "      <td>375</td>\n",
       "      <td>Nitrogen dioxide (NO2)</td>\n",
       "      <td>Mean</td>\n",
       "      <td>ppb</td>\n",
       "      <td>CD</td>\n",
       "      <td>107</td>\n",
       "      <td>Upper West Side (CD7)</td>\n",
       "      <td>Summer 2016</td>\n",
       "      <td>2016-06-01</td>\n",
       "      <td>19.10</td>\n",
       "      <td>NaN</td>\n",
       "    </tr>\n",
       "  </tbody>\n",
       "</table>\n",
       "</div>"
      ],
      "text/plain": [
       "   Unique ID  Indicator ID                    Name Measure Measure Info  \\\n",
       "2     550157           375  Nitrogen dioxide (NO2)    Mean          ppb   \n",
       "3     412802           375  Nitrogen dioxide (NO2)    Mean          ppb   \n",
       "4     412803           375  Nitrogen dioxide (NO2)    Mean          ppb   \n",
       "5     412676           375  Nitrogen dioxide (NO2)    Mean          ppb   \n",
       "6     412677           375  Nitrogen dioxide (NO2)    Mean          ppb   \n",
       "\n",
       "  Geo Type Name  Geo Join ID                     Geo Place Name  \\\n",
       "2            CD          414  Rockaway and Broad Channel (CD14)   \n",
       "3            CD          407      Flushing and Whitestone (CD7)   \n",
       "4            CD          407      Flushing and Whitestone (CD7)   \n",
       "5            CD          107              Upper West Side (CD7)   \n",
       "6            CD          107              Upper West Side (CD7)   \n",
       "\n",
       "           Time Period Start_Date  Data Value  Message  \n",
       "2  Annual Average 2017 2017-01-01       12.55      NaN  \n",
       "3       Winter 2015-16 2015-12-01       22.63      NaN  \n",
       "4          Summer 2016 2016-06-01       14.00      NaN  \n",
       "5       Winter 2015-16 2015-12-01       26.43      NaN  \n",
       "6          Summer 2016 2016-06-01       19.10      NaN  "
      ]
     },
     "execution_count": 57,
     "metadata": {},
     "output_type": "execute_result"
    }
   ],
   "source": [
    "# getting last extraction date from file\n",
    "with open(\"last_extraction.txt\", \"r\") as f:\n",
    "    last_extraction = f.read().strip()\n",
    "last_extraction_date = pd.to_datetime(last_extraction)\n",
    "print(f\"Last extraction date: {last_extraction_date}\")\n",
    "# Filter the DataFrame for rows after the last extraction date\n",
    "df_filtered = df[df[\"Start_Date\"] > last_extraction_date]\n",
    "print(f\"Filtered {len(df_filtered)} rows after last extraction date\")\n",
    "df_filtered.head()\n"
   ]
  },
  {
   "cell_type": "code",
   "execution_count": 58,
   "id": "99c3065e",
   "metadata": {},
   "outputs": [
    {
     "name": "stdout",
     "output_type": "stream",
     "text": [
      "New extractiondate written: 2023-06-01T00:00:00\n"
     ]
    }
   ],
   "source": [
    "#updating the last extraction date\n",
    "new_extractiondate = df['Start_Date'].max()\n",
    "with open (\"last_extraction.txt\",'w') as g:\n",
    "    g.write(new_extractiondate.isoformat())  # Write the new date in the same format\n",
    "print(f\"New extractiondate written: {new_extractiondate.isoformat()}\")\n"
   ]
  },
  {
   "cell_type": "code",
   "execution_count": 59,
   "id": "bde43283",
   "metadata": {},
   "outputs": [],
   "source": [
    "#creating full and incremental DataFrames\n",
    "df_full=df.copy()\n",
    "df_incremental = df[df[\"Start_Date\"] > last_extraction_date].copy()"
   ]
  },
  {
   "cell_type": "code",
   "execution_count": 60,
   "id": "52bc1269",
   "metadata": {},
   "outputs": [
    {
     "data": {
      "text/plain": [
       "np.float64(424.7)"
      ]
     },
     "execution_count": 60,
     "metadata": {},
     "output_type": "execute_result"
    }
   ],
   "source": [
    "df_full[\"Data Value\"].max()  # using the Data Value column to check for max value to create a new column"
   ]
  },
  {
   "cell_type": "code",
   "execution_count": 61,
   "id": "9be8c5c9",
   "metadata": {},
   "outputs": [],
   "source": [
    "df_full = df_full.drop_duplicates()\n",
    "# Convert Data Value from float to int\n",
    "df_full[\"Data Value\"] = df_full[\"Data Value\"].astype(int)\n",
    "# Drop 'Measure' and 'Message' column (same value everywhere and message is empty)\n",
    "df_full = df_full.drop(columns=[\"Measure\",\"Message\"])\n",
    "# Create a new column for pollution level based on Data Value\n",
    "df_full[\"Pollution_Level\"] = pd.cut(df_full[\"Data Value\"],\n",
    "                                    bins=[0, 50, 100, 150, 200, 300],\n",
    "                                    labels=[\"Good\", \"Moderate\", \"Unhealthy\", \"Very Unhealthy\", \"Hazardous\"])\n",
    "df_full.head()\n",
    "df_full.to_csv(\"transformed_full.csv\", index=False)\n"
   ]
  },
  {
   "cell_type": "code",
   "execution_count": 62,
   "id": "53ac962f",
   "metadata": {},
   "outputs": [],
   "source": [
    "# Transforming the incremental DataFrame\n",
    "# Convert Data Value from float to int\n",
    "df_incremental[\"Data Value\"] = df_incremental[\"Data Value\"].astype(int)\n",
    "# Create a new column for pollution level based on Data Value\n",
    "df_incremental[\"Pollution_Level\"] = pd.cut(df_incremental[\"Data Value\"],\n",
    "                                            bins=[0, 50, 100, 150, 200, 300],\n",
    "                                            labels=[\"Good\", \"Moderate\", \"Unhealthy\", \"Very Unhealthy\", \"Hazardous\"])\n",
    "# Fill NaN values in 'Message' column with \"None\"\n",
    "df_incremental[\"Message\"] = df_incremental[\"Message\"].fillna(\"None\")\n",
    "\n",
    "# Drop 'Measure' and 'Message' column(same value everywhere))\n",
    "df_incremental = df_incremental.drop(columns=[\"Measure\"])\n",
    "\n",
    "new_extractiondate = df[\"Start_Date\"].max()\n",
    "with open(\"last_extraction.txt\", \"w\") as g:\n",
    "    g.write(new_extractiondate.isoformat())\n",
    "    \n",
    "# Save the transformed DataFrames to CSV files\n",
    "df_incremental.to_csv(\"transformed_incremental.csv\", index=False)\n"
   ]
  }
 ],
 "metadata": {
  "kernelspec": {
   "display_name": "Python 3",
   "language": "python",
   "name": "python3"
  },
  "language_info": {
   "codemirror_mode": {
    "name": "ipython",
    "version": 3
   },
   "file_extension": ".py",
   "mimetype": "text/x-python",
   "name": "python",
   "nbconvert_exporter": "python",
   "pygments_lexer": "ipython3",
   "version": "3.12.8"
  }
 },
 "nbformat": 4,
 "nbformat_minor": 5
}
